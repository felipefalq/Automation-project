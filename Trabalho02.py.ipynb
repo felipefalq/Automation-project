{
 "cells": [
  {
   "cell_type": "code",
   "execution_count": 13,
   "id": "0076b642",
   "metadata": {
    "scrolled": true
   },
   "outputs": [],
   "source": [
    "from selenium import webdriver\n",
    "from webdriver_manager.chrome import ChromeDriverManager\n",
    "from selenium.webdriver.chrome.service import Service\n",
    "from selenium.webdriver.common.by import By\n",
    "import time\n",
    "import requests\n",
    "from bs4 import BeautifulSoup\n",
    "\n",
    "def bigSleep():\n",
    "    time.sleep(10)\n",
    "    \n",
    "def slowSleep():\n",
    "    time.sleep(5)\n",
    "    \n",
    "\n",
    "servico = Service(ChromeDriverManager().install())\n",
    "\n",
    "navegador = webdriver.Chrome(service=servico)\n",
    "\n"
   ]
  },
  {
   "cell_type": "code",
   "execution_count": null,
   "id": "54c58cf1",
   "metadata": {
    "scrolled": false
   },
   "outputs": [],
   "source": [
    "#Solicitar usuário e senha.\n",
    "user = str(input(\"Digite o user utilizado no SIA: \"))\n",
    "senha = str(input(\"Digite a senha utilizada no SIA: \"))\n",
    "\n",
    "#Abrir site Estácio\n",
    "navegador.get(\"https://estudante.estacio.br/login\")\n",
    "navegador.maximize_window()\n",
    "bigSleep()"
   ]
  },
  {
   "cell_type": "code",
   "execution_count": 3,
   "id": "067b6ced",
   "metadata": {},
   "outputs": [],
   "source": [
    "#Click \"entrar\"\n",
    "navegador.find_element('xpath','//*[@id=\"section-login\"]/div/div/div/section/div[1]/button').click()\n",
    "slowSleep()"
   ]
  },
  {
   "cell_type": "code",
   "execution_count": 4,
   "id": "c9f25b21",
   "metadata": {},
   "outputs": [],
   "source": [
    "#Login automático\n",
    "navegador.find_element('xpath', '//*[@id=\"i0116\"]').send_keys(user)\n",
    "\n",
    "slowSleep()"
   ]
  },
  {
   "cell_type": "code",
   "execution_count": 5,
   "id": "183232bd",
   "metadata": {},
   "outputs": [],
   "source": [
    "#Click \"continuar\"\n",
    "navegador.find_element('xpath', '//*[@id=\"idSIButton9\"]').click()\n",
    "slowSleep()"
   ]
  },
  {
   "cell_type": "code",
   "execution_count": 6,
   "id": "59a7a24d",
   "metadata": {},
   "outputs": [],
   "source": [
    "#Senha automática\n",
    "navegador.find_element('xpath', '//*[@id=\"i0118\"]').send_keys(senha)\n",
    "slowSleep()"
   ]
  },
  {
   "cell_type": "code",
   "execution_count": 7,
   "id": "c960e5ea",
   "metadata": {},
   "outputs": [],
   "source": [
    "#Click \"Entrar\"\n",
    "navegador.find_element('xpath', '//*[@id=\"idSIButton9\"]').click()\n",
    "slowSleep()"
   ]
  },
  {
   "cell_type": "code",
   "execution_count": 8,
   "id": "ad791b4e",
   "metadata": {},
   "outputs": [],
   "source": [
    "#Click \"Não Continuar conectado\"\n",
    "navegador.find_element('xpath', '//*[@id=\"idBtn_Back\"]').click()\n",
    "bigSleep()"
   ]
  },
  {
   "cell_type": "code",
   "execution_count": null,
   "id": "004ebc01",
   "metadata": {},
   "outputs": [],
   "source": []
  },
  {
   "cell_type": "code",
   "execution_count": 9,
   "id": "9a35366f",
   "metadata": {},
   "outputs": [],
   "source": [
    "#Click Card da Disciplina\n",
    "navegador.find_element(By.ID, 'card-entrega-ARA0066').click()\n",
    "slowSleep()"
   ]
  },
  {
   "cell_type": "code",
   "execution_count": 10,
   "id": "ce2184e5",
   "metadata": {
    "scrolled": true
   },
   "outputs": [],
   "source": [
    "#Click \"Tema 5\"\n",
    "navegador.find_element('xpath', '//*[@id=\"temas-lista-topicos\"]/li[5]/a/div').click()\n",
    "bigSleep()"
   ]
  },
  {
   "cell_type": "code",
   "execution_count": 11,
   "id": "968c19bc",
   "metadata": {
    "scrolled": true
   },
   "outputs": [],
   "source": [
    "#Abrir site Kabum\n",
    "navegador.get(\"https://www.kabum.com.br\")"
   ]
  },
  {
   "cell_type": "code",
   "execution_count": 12,
   "id": "2ba87ed9",
   "metadata": {},
   "outputs": [],
   "source": [
    "#Buscar produtos\n",
    "navegador.find_element('xpath', '//*[@id=\"input-busca\"]').send_keys(\"PC Gamer\")"
   ]
  },
  {
   "cell_type": "code",
   "execution_count": null,
   "id": "13d10058",
   "metadata": {},
   "outputs": [],
   "source": []
  },
  {
   "cell_type": "code",
   "execution_count": null,
   "id": "9178e680",
   "metadata": {},
   "outputs": [],
   "source": []
  },
  {
   "cell_type": "code",
   "execution_count": null,
   "id": "0ef0dfbf",
   "metadata": {},
   "outputs": [],
   "source": []
  }
 ],
 "metadata": {
  "kernelspec": {
   "display_name": "Python 3 (ipykernel)",
   "language": "python",
   "name": "python3"
  },
  "language_info": {
   "codemirror_mode": {
    "name": "ipython",
    "version": 3
   },
   "file_extension": ".py",
   "mimetype": "text/x-python",
   "name": "python",
   "nbconvert_exporter": "python",
   "pygments_lexer": "ipython3",
   "version": "3.10.9"
  }
 },
 "nbformat": 4,
 "nbformat_minor": 5
}
